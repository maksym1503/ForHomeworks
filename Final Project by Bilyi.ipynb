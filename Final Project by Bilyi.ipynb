{
 "cells": [
  {
   "cell_type": "markdown",
   "metadata": {},
   "source": [
    "# Final project for Python Programming course\n",
    "\n",
    "## Prepared by Maksym Bilyi, id: 101169\n",
    "\n",
    "### Executed using PyCharm, Jupyter Notebook, and GitHu\n"
   ]
  },
  {
   "cell_type": "markdown",
   "metadata": {},
   "source": [
    "Following project intends to invetigate Airline reviews using data science and python. The basic idea is about clustering reviews based on people's text. However, project includes other various creative initiatives that explore the potential of algorithms, maths, and art of data science🤩"
   ]
  },
  {
   "cell_type": "markdown",
   "metadata": {},
   "source": [
    "Dataset for the following project is on Kaggle: https://www.kaggle.com/rakshitrk/airline-reviews. Dataset contains more than 300k reviews of: Airline, Air Travel, Airport, Flight Search Sites, and Airport Shuttle Service. "
   ]
  },
  {
   "cell_type": "markdown",
   "metadata": {},
   "source": [
    "Codes, graphs, and other output will be followed by comments."
   ]
  },
  {
   "cell_type": "code",
   "execution_count": 1,
   "metadata": {},
   "outputs": [],
   "source": [
    "# list of used libraries \n",
    "\n",
    "import pandas as pd"
   ]
  },
  {
   "cell_type": "code",
   "execution_count": 2,
   "metadata": {},
   "outputs": [
    {
     "data": {
      "text/html": [
       "<div>\n",
       "<style scoped>\n",
       "    .dataframe tbody tr th:only-of-type {\n",
       "        vertical-align: middle;\n",
       "    }\n",
       "\n",
       "    .dataframe tbody tr th {\n",
       "        vertical-align: top;\n",
       "    }\n",
       "\n",
       "    .dataframe thead th {\n",
       "        text-align: right;\n",
       "    }\n",
       "</style>\n",
       "<table border=\"1\" class=\"dataframe\">\n",
       "  <thead>\n",
       "    <tr style=\"text-align: right;\">\n",
       "      <th></th>\n",
       "      <th>comment</th>\n",
       "      <th>rating</th>\n",
       "      <th>url_website</th>\n",
       "      <th>company_name</th>\n",
       "      <th>company_website</th>\n",
       "      <th>company_logo</th>\n",
       "    </tr>\n",
       "  </thead>\n",
       "  <tbody>\n",
       "    <tr>\n",
       "      <th>0</th>\n",
       "      <td>Mohammad harun, he is an awesome guy very info...</td>\n",
       "      <td>5</td>\n",
       "      <td>https://www.trustpilot.com/review/www.flydealf...</td>\n",
       "      <td>FlyDealFare.com</td>\n",
       "      <td>http://flydealfare.com?utm_medium=company_prof...</td>\n",
       "      <td>//s3-eu-west-1.amazonaws.com/tpd/logos/55a5e61...</td>\n",
       "    </tr>\n",
       "    <tr>\n",
       "      <th>1</th>\n",
       "      <td>amazing guy gaurav was, so patience and kind. ...</td>\n",
       "      <td>5</td>\n",
       "      <td>https://www.trustpilot.com/review/www.flydealf...</td>\n",
       "      <td>FlyDealFare.com</td>\n",
       "      <td>http://flydealfare.com?utm_medium=company_prof...</td>\n",
       "      <td>//s3-eu-west-1.amazonaws.com/tpd/logos/55a5e61...</td>\n",
       "    </tr>\n",
       "    <tr>\n",
       "      <th>2</th>\n",
       "      <td>Gaurav was very knowledgeable and very helpful...</td>\n",
       "      <td>5</td>\n",
       "      <td>https://www.trustpilot.com/review/www.flydealf...</td>\n",
       "      <td>FlyDealFare.com</td>\n",
       "      <td>http://flydealfare.com?utm_medium=company_prof...</td>\n",
       "      <td>//s3-eu-west-1.amazonaws.com/tpd/logos/55a5e61...</td>\n",
       "    </tr>\n",
       "    <tr>\n",
       "      <th>3</th>\n",
       "      <td>I called them regarding my flight cancellation...</td>\n",
       "      <td>5</td>\n",
       "      <td>https://www.trustpilot.com/review/www.flydealf...</td>\n",
       "      <td>FlyDealFare.com</td>\n",
       "      <td>http://flydealfare.com?utm_medium=company_prof...</td>\n",
       "      <td>//s3-eu-west-1.amazonaws.com/tpd/logos/55a5e61...</td>\n",
       "    </tr>\n",
       "    <tr>\n",
       "      <th>4</th>\n",
       "      <td>VERY GOOD SERVICE BY GAURAV LOHAT SERVED AS SO...</td>\n",
       "      <td>4</td>\n",
       "      <td>https://www.trustpilot.com/review/www.flydealf...</td>\n",
       "      <td>FlyDealFare.com</td>\n",
       "      <td>http://flydealfare.com?utm_medium=company_prof...</td>\n",
       "      <td>//s3-eu-west-1.amazonaws.com/tpd/logos/55a5e61...</td>\n",
       "    </tr>\n",
       "  </tbody>\n",
       "</table>\n",
       "</div>"
      ],
      "text/plain": [
       "                                             comment  rating  \\\n",
       "0  Mohammad harun, he is an awesome guy very info...       5   \n",
       "1  amazing guy gaurav was, so patience and kind. ...       5   \n",
       "2  Gaurav was very knowledgeable and very helpful...       5   \n",
       "3  I called them regarding my flight cancellation...       5   \n",
       "4  VERY GOOD SERVICE BY GAURAV LOHAT SERVED AS SO...       4   \n",
       "\n",
       "                                         url_website     company_name  \\\n",
       "0  https://www.trustpilot.com/review/www.flydealf...  FlyDealFare.com   \n",
       "1  https://www.trustpilot.com/review/www.flydealf...  FlyDealFare.com   \n",
       "2  https://www.trustpilot.com/review/www.flydealf...  FlyDealFare.com   \n",
       "3  https://www.trustpilot.com/review/www.flydealf...  FlyDealFare.com   \n",
       "4  https://www.trustpilot.com/review/www.flydealf...  FlyDealFare.com   \n",
       "\n",
       "                                     company_website  \\\n",
       "0  http://flydealfare.com?utm_medium=company_prof...   \n",
       "1  http://flydealfare.com?utm_medium=company_prof...   \n",
       "2  http://flydealfare.com?utm_medium=company_prof...   \n",
       "3  http://flydealfare.com?utm_medium=company_prof...   \n",
       "4  http://flydealfare.com?utm_medium=company_prof...   \n",
       "\n",
       "                                        company_logo  \n",
       "0  //s3-eu-west-1.amazonaws.com/tpd/logos/55a5e61...  \n",
       "1  //s3-eu-west-1.amazonaws.com/tpd/logos/55a5e61...  \n",
       "2  //s3-eu-west-1.amazonaws.com/tpd/logos/55a5e61...  \n",
       "3  //s3-eu-west-1.amazonaws.com/tpd/logos/55a5e61...  \n",
       "4  //s3-eu-west-1.amazonaws.com/tpd/logos/55a5e61...  "
      ]
     },
     "execution_count": 2,
     "metadata": {},
     "output_type": "execute_result"
    }
   ],
   "source": [
    "# importing the dataset\n",
    "\n",
    "ds = pd.read_csv('/Users/macbook/Desktop/PythonHW/reviews.csv')\n",
    "ds.head()"
   ]
  },
  {
   "cell_type": "code",
   "execution_count": 3,
   "metadata": {},
   "outputs": [
    {
     "data": {
      "text/html": [
       "<div>\n",
       "<style scoped>\n",
       "    .dataframe tbody tr th:only-of-type {\n",
       "        vertical-align: middle;\n",
       "    }\n",
       "\n",
       "    .dataframe tbody tr th {\n",
       "        vertical-align: top;\n",
       "    }\n",
       "\n",
       "    .dataframe thead th {\n",
       "        text-align: right;\n",
       "    }\n",
       "</style>\n",
       "<table border=\"1\" class=\"dataframe\">\n",
       "  <thead>\n",
       "    <tr style=\"text-align: right;\">\n",
       "      <th></th>\n",
       "      <th>comment</th>\n",
       "      <th>rating</th>\n",
       "      <th>company_name</th>\n",
       "    </tr>\n",
       "  </thead>\n",
       "  <tbody>\n",
       "    <tr>\n",
       "      <th>0</th>\n",
       "      <td>Mohammad harun, he is an awesome guy very info...</td>\n",
       "      <td>5</td>\n",
       "      <td>FlyDealFare.com</td>\n",
       "    </tr>\n",
       "    <tr>\n",
       "      <th>1</th>\n",
       "      <td>amazing guy gaurav was, so patience and kind. ...</td>\n",
       "      <td>5</td>\n",
       "      <td>FlyDealFare.com</td>\n",
       "    </tr>\n",
       "    <tr>\n",
       "      <th>2</th>\n",
       "      <td>Gaurav was very knowledgeable and very helpful...</td>\n",
       "      <td>5</td>\n",
       "      <td>FlyDealFare.com</td>\n",
       "    </tr>\n",
       "    <tr>\n",
       "      <th>3</th>\n",
       "      <td>I called them regarding my flight cancellation...</td>\n",
       "      <td>5</td>\n",
       "      <td>FlyDealFare.com</td>\n",
       "    </tr>\n",
       "    <tr>\n",
       "      <th>4</th>\n",
       "      <td>VERY GOOD SERVICE BY GAURAV LOHAT SERVED AS SO...</td>\n",
       "      <td>4</td>\n",
       "      <td>FlyDealFare.com</td>\n",
       "    </tr>\n",
       "  </tbody>\n",
       "</table>\n",
       "</div>"
      ],
      "text/plain": [
       "                                             comment  rating     company_name\n",
       "0  Mohammad harun, he is an awesome guy very info...       5  FlyDealFare.com\n",
       "1  amazing guy gaurav was, so patience and kind. ...       5  FlyDealFare.com\n",
       "2  Gaurav was very knowledgeable and very helpful...       5  FlyDealFare.com\n",
       "3  I called them regarding my flight cancellation...       5  FlyDealFare.com\n",
       "4  VERY GOOD SERVICE BY GAURAV LOHAT SERVED AS SO...       4  FlyDealFare.com"
      ]
     },
     "execution_count": 3,
     "metadata": {},
     "output_type": "execute_result"
    }
   ],
   "source": [
    "# for the research, there's no need to keep following variables\n",
    "\n",
    "ds=ds.drop(columns=['url_website', 'company_website', 'company_logo'])\n",
    "ds.head()"
   ]
  },
  {
   "cell_type": "markdown",
   "metadata": {},
   "source": [
    "# Data Preprocessing Stage"
   ]
  },
  {
   "cell_type": "code",
   "execution_count": 4,
   "metadata": {},
   "outputs": [
    {
     "data": {
      "text/plain": [
       "comment         0\n",
       "rating          0\n",
       "company_name    0\n",
       "dtype: int64"
      ]
     },
     "execution_count": 4,
     "metadata": {},
     "output_type": "execute_result"
    }
   ],
   "source": [
    "# missing data check\n",
    "\n",
    "ds.isna().sum()"
   ]
  },
  {
   "cell_type": "code",
   "execution_count": 5,
   "metadata": {},
   "outputs": [
    {
     "data": {
      "text/plain": [
       "company_name\n",
       "Le Bus Direct              1.000000\n",
       "Primera Air                1.348259\n",
       "Vueling                    1.349120\n",
       "AirAsia                    1.364641\n",
       "wizzair.com                1.378788\n",
       "                             ...   \n",
       "Lderex Travels             5.000000\n",
       "Flights Booth              5.000000\n",
       "TravellerClick             5.000000\n",
       "Flight Squad               5.000000\n",
       "Priority One Jets, Inc.    5.000000\n",
       "Name: rating, Length: 150, dtype: float64"
      ]
     },
     "execution_count": 5,
     "metadata": {},
     "output_type": "execute_result"
    }
   ],
   "source": [
    "# to see how average rating are distributed among companies\n",
    "\n",
    "ds.groupby(\"company_name\").rating.mean().sort_values(ascending=True)\n"
   ]
  },
  {
   "cell_type": "code",
   "execution_count": 6,
   "metadata": {},
   "outputs": [
    {
     "data": {
      "text/plain": [
       "308384"
      ]
     },
     "execution_count": 6,
     "metadata": {},
     "output_type": "execute_result"
    }
   ],
   "source": [
    "# to see how many unique levels we have in the dataset\n",
    "\n",
    "len(ds.company_name)\n"
   ]
  },
  {
   "cell_type": "code",
   "execution_count": 7,
   "metadata": {},
   "outputs": [
    {
     "data": {
      "text/plain": [
       "company_name\n",
       "Escape Flight                          1\n",
       "Advanced Air Ambulance                 1\n",
       "Flight Squad                           1\n",
       "Frdesk                                 1\n",
       "Penny Fly Travel                       1\n",
       "                                   ...  \n",
       "AirportParkingReservations.com     17928\n",
       "SmartFares                         24447\n",
       "WallyPark Airport Parking          27390\n",
       "Kiwi.com                           36389\n",
       "JustFly                           100320\n",
       "Name: comment, Length: 150, dtype: int64"
      ]
     },
     "execution_count": 7,
     "metadata": {},
     "output_type": "execute_result"
    }
   ],
   "source": [
    "# to determine what airlines have the most reviews\n",
    "\n",
    "ds.groupby(\"company_name\").comment.count().sort_values(ascending=True)\n",
    "\n",
    "# for the following project I will use first 5 with most reviews"
   ]
  },
  {
   "cell_type": "code",
   "execution_count": 8,
   "metadata": {},
   "outputs": [],
   "source": [
    "# filtering Airline companies with less than 17927 reviews, so keeping top-5\n",
    "\n",
    "counts = ds.groupby(\"company_name\").comment.count()\n",
    "ds1 = ds[~ds['company_name'].isin(counts[counts < 17927].index)]"
   ]
  },
  {
   "cell_type": "code",
   "execution_count": 9,
   "metadata": {},
   "outputs": [
    {
     "data": {
      "text/plain": [
       "company_name\n",
       "AirportParkingReservations.com     17928\n",
       "SmartFares                         24447\n",
       "WallyPark Airport Parking          27390\n",
       "Kiwi.com                           36389\n",
       "JustFly                           100320\n",
       "Name: comment, dtype: int64"
      ]
     },
     "execution_count": 9,
     "metadata": {},
     "output_type": "execute_result"
    }
   ],
   "source": [
    "ds1.groupby(\"company_name\").comment.count().sort_values(ascending=True)"
   ]
  },
  {
   "cell_type": "code",
   "execution_count": 10,
   "metadata": {},
   "outputs": [
    {
     "data": {
      "text/plain": [
       "<AxesSubplot:xlabel='company_name'>"
      ]
     },
     "execution_count": 10,
     "metadata": {},
     "output_type": "execute_result"
    },
    {
     "data": {
      "image/png": "[encoded data removed]",
      "text/plain": [
       "<Figure size 432x288 with 1 Axes>"
      ]
     },
     "metadata": {
      "needs_background": "light"
     },
     "output_type": "display_data"
    }
   ],
   "source": [
    "# analyzing average ratings among companies\n",
    "\n",
    "ds1.groupby(\"company_name\").rating.mean().sort_values(ascending=True)[:5].plot.bar()\n",
    "\n",
    "# based on mean values, the \"best\" one is JustFly and the \"worst\" one is WallyPark"
   ]
  },
  {
   "cell_type": "code",
   "execution_count": 11,
   "metadata": {},
   "outputs": [],
   "source": [
    "pd.options.mode.chained_assignment = None"
   ]
  },
  {
   "cell_type": "code",
   "execution_count": 12,
   "metadata": {},
   "outputs": [
    {
     "data": {
      "text/plain": [
       "company_name\n",
       "Kiwi.com                          52.826321\n",
       "WallyPark Airport Parking         44.608507\n",
       "JustFly                           29.592344\n",
       "AirportParkingReservations.com    26.681448\n",
       "SmartFares                        14.050149\n",
       "Name: word_count, dtype: float64"
      ]
     },
     "execution_count": 12,
     "metadata": {},
     "output_type": "execute_result"
    }
   ],
   "source": [
    "# to see average amount of words in each reviews in each company\n",
    "\n",
    "ds1['word_count'] = ds1['comment'].apply(lambda x: len(str(x).split(\" \")))\n",
    "\n",
    "\n",
    "ds1.groupby(\"company_name\").word_count.mean().sort_values(ascending=False)[:5]"
   ]
  },
  {
   "cell_type": "markdown",
   "metadata": {},
   "source": [
    "# Text Analysis Stage"
   ]
  },
  {
   "cell_type": "code",
   "execution_count": 13,
   "metadata": {},
   "outputs": [],
   "source": [
    "# making lower case to avoid repetitions of same words\n",
    "\n",
    "ds1['comment'] = ds1['comment'].apply(lambda x: \" \".join(x.lower() for x in x.split()))"
   ]
  },
  {
   "cell_type": "code",
   "execution_count": 14,
   "metadata": {},
   "outputs": [],
   "source": [
    "# removing punctuation\n",
    "\n",
    "ds1['comment'] = ds1['comment'].str.replace('[^\\w\\s]','')"
   ]
  },
  {
   "cell_type": "code",
   "execution_count": 16,
   "metadata": {},
   "outputs": [],
   "source": [
    "# tokenization - creating sequences of words\n",
    "\n",
    "from nltk.tokenize import word_tokenize\n",
    "\n",
    "ds1['comment'] = ds1['comment'].apply(word_tokenize)"
   ]
  },
  {
   "cell_type": "code",
   "execution_count": 17,
   "metadata": {},
   "outputs": [],
   "source": [
    "# lemmatization - morphological analysis\n",
    "\n",
    "from textblob import Word\n",
    "\n",
    "ds1['comment'] = ds1['comment'].apply(lambda x: \" \".join([Word(word).lemmatize() for word in x]))"
   ]
  },
  {
   "cell_type": "code",
   "execution_count": 24,
   "metadata": {},
   "outputs": [],
   "source": []
  },
  {
   "cell_type": "code",
   "execution_count": 33,
   "metadata": {},
   "outputs": [],
   "source": [
    "# Sentiment Analysis\n",
    "\n",
    "from nltk.sentiment.vader import SentimentIntensityAnalyzer\n",
    "from nltk.sentiment.util import *\n",
    "import matplotlib.pyplot as plt\n",
    "import nltk\n",
    "\n",
    "#nltk.download('vader_lexicon')\n",
    "\n",
    "SIA = SentimentIntensityAnalyzer()\n",
    "\n",
    "# Applying Model, Variable Creation\n",
    "sentiment = ds1.copy()\n",
    "sentiment['polarity_score']=sentiment.comment.apply(lambda x:SIA.polarity_scores(x)['compound'])\n",
    "sentiment['neutral_score']=sentiment.comment.apply(lambda x:SIA.polarity_scores(x)['neu'])\n",
    "sentiment['negative_score']=sentiment.comment.apply(lambda x:SIA.polarity_scores(x)['neg'])\n",
    "sentiment['positive_score']=sentiment.comment.apply(lambda x:SIA.polarity_scores(x)['pos'])\n",
    "sentiment['sentiment']=''\n",
    "sentiment.loc[sentiment.polarity_score>0,'sentiment']='POSITIVE'\n",
    "sentiment.loc[sentiment.polarity_score==0,'sentiment']='NEUTRAL'\n",
    "sentiment.loc[sentiment.polarity_score<0,'sentiment']='NEGATIVE'\n",
    "\n",
    "# Normalize for Size\n",
    "auth_sent= sentiment.groupby(['company_name','sentiment'])[['comment']].count().reset_index()\n",
    "for x in ['EAP','HPL','MWS']:\n",
    "    auth_sent.comment[auth_sent.company_name == x] = (auth_sent.comment[auth_sent.sentiment == x]/\\\n",
    "        auth_sent[auth_sent.sentiment ==x].comment.sum())*100"
   ]
  },
  {
   "cell_type": "code",
   "execution_count": 38,
   "metadata": {},
   "outputs": [
    {
     "data": {
      "image/png": "[encoded data removed]",
      "text/plain": [
       "<Figure size 432x288 with 1 Axes>"
      ]
     },
     "metadata": {
      "needs_background": "light"
     },
     "output_type": "display_data"
    }
   ],
   "source": [
    "import seaborn as sns\n",
    "\n",
    "ax= sns.barplot(x='sentiment', y='comment',hue='company_name',data=auth_sent)\n",
    "ax.set(xlabel='Author', ylabel='Sentiment Percentage')\n",
    "ax.figure.suptitle(\"Author by Sentiment\", fontsize = 24)\n",
    "plt.show()"
   ]
  },
  {
   "cell_type": "code",
   "execution_count": null,
   "metadata": {},
   "outputs": [],
   "source": []
  }
 ],
 "metadata": {
  "kernelspec": {
   "display_name": "Python 3",
   "language": "python",
   "name": "python3"
  },
  "language_info": {
   "codemirror_mode": {
    "name": "ipython",
    "version": 3
   },
   "file_extension": ".py",
   "mimetype": "text/x-python",
   "name": "python",
   "nbconvert_exporter": "python",
   "pygments_lexer": "ipython3",
   "version": "3.8.5"
  }
 },
 "nbformat": 4,
 "nbformat_minor": 4
}
